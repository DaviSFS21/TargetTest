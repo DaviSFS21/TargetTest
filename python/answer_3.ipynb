{
  "nbformat": 4,
  "nbformat_minor": 0,
  "metadata": {
    "colab": {
      "provenance": []
    },
    "kernelspec": {
      "name": "python3",
      "display_name": "Python 3"
    },
    "language_info": {
      "name": "python"
    }
  },
  "cells": [
    {
      "cell_type": "code",
      "execution_count": 1,
      "metadata": {
        "id": "YaGXczEJdShT"
      },
      "outputs": [],
      "source": [
        "import pandas as pd"
      ]
    },
    {
      "cell_type": "code",
      "source": [
        "df = pd.read_json('dados.json')\n",
        "df = df[df['valor'] != 0]"
      ],
      "metadata": {
        "id": "J-1rLtahfW4s"
      },
      "execution_count": 2,
      "outputs": []
    },
    {
      "cell_type": "code",
      "source": [
        "max_fat = df.loc[df['valor'] == df['valor'].max(), 'dia'].values[0]\n",
        "min_fat = df.loc[df['valor'] == df['valor'].min(), 'dia'].values[0]\n",
        "dias_acima = []\n",
        "\n",
        "for valor in df['valor']:\n",
        "  if valor > df['valor'].mean():\n",
        "    dias_acima.append(df.loc[df['valor'] == valor, 'dia'].values[0])"
      ],
      "metadata": {
        "id": "b2q5S8L1fdwK"
      },
      "execution_count": 3,
      "outputs": []
    },
    {
      "cell_type": "code",
      "source": [
        "print(\"Dia de maior faturamento:\",max_fat)\n",
        "print(\"Dia de menor faturamento:\",min_fat)\n",
        "\n",
        "str_dias_acima = \"\"\n",
        "\n",
        "for dia in dias_acima:\n",
        "    str_dias_acima = str_dias_acima + str(dia) + \", \"\n",
        "\n",
        "print(\"Dias com faturamento maior que a média:\",str_dias_acima[:-2])"
      ],
      "metadata": {
        "colab": {
          "base_uri": "https://localhost:8080/"
        },
        "id": "vFqWzkMOg7FL",
        "outputId": "8e458799-6a4d-4273-f62e-8110bc3760ce"
      },
      "execution_count": 10,
      "outputs": [
        {
          "output_type": "stream",
          "name": "stdout",
          "text": [
            "Dia de maior faturamento: 16\n",
            "Dia de menor faturamento: 14\n",
            "Dias com faturamento maior que a média: 1, 2, 3, 6, 8, 9, 16, 20, 21, 27\n"
          ]
        }
      ]
    },
    {
      "cell_type": "code",
      "source": [],
      "metadata": {
        "id": "udGNs75rnB_L"
      },
      "execution_count": null,
      "outputs": []
    }
  ]
}